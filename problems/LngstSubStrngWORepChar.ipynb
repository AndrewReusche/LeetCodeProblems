{
 "cells": [
  {
   "cell_type": "markdown",
   "id": "4b966cd4-e389-4183-838b-335da79f0b14",
   "metadata": {},
   "source": [
    "# 3. Longest Substring Without Repeating Characters\n",
    "\n",
    "Given a string s, find the length of the longest substring without duplicate characters.\n",
    "\n",
    "Example 1:\n",
    "\n",
    "    Input: s = \"abcabcbb\"\n",
    "    Output: 3\n",
    "    Explanation: The answer is \"abc\", with the length of 3.\n",
    "\n",
    "Example 2:\n",
    "\n",
    "    Input: s = \"bbbbb\"\n",
    "    Output: 1\n",
    "    Explanation: The answer is \"b\", with the length of 1.\n",
    "\n",
    "Example 3:\n",
    "\n",
    "    Input: s = \"pwwkew\"\n",
    "    Output: 3\n",
    "    Explanation: The answer is \"wke\", with the length of 3.\n",
    "    Notice that the answer must be a substring, \"pwke\" is a subsequence and not a substring.\n",
    " \n",
    "\n",
    "Constraints:\n",
    "\n",
    "    0 <= s.length <= 5 * 104\n",
    "    s consists of English letters, digits, symbols and spaces."
   ]
  },
  {
   "cell_type": "code",
   "execution_count": null,
   "id": "bcb3d695-0db1-4785-9064-4c182ce2cd37",
   "metadata": {},
   "outputs": [],
   "source": []
  },
  {
   "cell_type": "code",
   "execution_count": 2,
   "id": "d8904a51-4ba9-48bf-a594-60178e1f9c24",
   "metadata": {},
   "outputs": [],
   "source": [
    "# first attempt \n",
    "class Solution(object):\n",
    "    def lengthOfLongestSubstring(self, s):\n",
    "        \"\"\"\n",
    "        :type s: str\n",
    "        :rtype: int\n",
    "        \"\"\"\n",
    "        max_length= 0\n",
    "        current_length= 0\n",
    "        letter_list= []\n",
    "        while s:\n",
    "            for x in s:\n",
    "                if x not in letter_list:\n",
    "                    letter_list.append(x)\n",
    "                    current_length += 1\n",
    "                    max_length = current_length if current_length > max_length else max_length\n",
    "                else:\n",
    "                    break\n",
    "            s= s[1:]\n",
    "            current_length= 0\n",
    "            letter_list= []\n",
    "        \n",
    "        return max_length\n",
    "\n",
    "\n",
    "            "
   ]
  },
  {
   "cell_type": "markdown",
   "id": "06aaa111-a028-493c-aa64-2cc5d9061924",
   "metadata": {},
   "source": [
    "results in On^2 time complexity. Try to do better."
   ]
  },
  {
   "cell_type": "code",
   "execution_count": null,
   "id": "14e88d99-3fd9-4291-a16a-6fdca37cbe8b",
   "metadata": {},
   "outputs": [],
   "source": []
  }
 ],
 "metadata": {
  "kernelspec": {
   "display_name": "torch",
   "language": "python",
   "name": "torch"
  },
  "language_info": {
   "codemirror_mode": {
    "name": "ipython",
    "version": 3
   },
   "file_extension": ".py",
   "mimetype": "text/x-python",
   "name": "python",
   "nbconvert_exporter": "python",
   "pygments_lexer": "ipython3",
   "version": "3.12.11"
  }
 },
 "nbformat": 4,
 "nbformat_minor": 5
}
