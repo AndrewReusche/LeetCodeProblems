{
 "cells": [
  {
   "cell_type": "markdown",
   "id": "b943365c-946d-47ab-96fc-5c617a4ef618",
   "metadata": {},
   "source": [
    "# Question:"
   ]
  },
  {
   "cell_type": "markdown",
   "id": "10e0cb02-3c41-4ad2-9da2-ae9f2b2defb2",
   "metadata": {},
   "source": [
    "Given an array of integers nums and an integer target, return indices of the two numbers such that they add up to target.\n",
    "\n",
    "You may assume that each input would have exactly one solution, and you may not use the same element twice.\n",
    "\n",
    "You can return the answer in any order."
   ]
  },
  {
   "cell_type": "markdown",
   "id": "2fedf430-195f-45bf-a8d1-7acddb96b785",
   "metadata": {},
   "source": [
    "## Examples\n"
   ]
  },
  {
   "cell_type": "markdown",
   "id": "e6c8299b-16cf-4370-b478-be1e1a874d0d",
   "metadata": {},
   "source": [
    "Example 1:\n",
    "\n",
    "Input: nums = [2,7,11,15], target = 9\n",
    "\n",
    "Output: [0,1]\n",
    "\n",
    "Explanation: Because nums[0] + nums[1] == 9, we return [0, 1].\n",
    "\n",
    "\n",
    "Example 2:\n",
    "\n",
    "Input: nums = [3,2,4], target = 6\n",
    "\n",
    "Output: [1,2]\n",
    "\n",
    "Example 3:\n",
    "\n",
    "Input: nums = [3,3], target = 6\n",
    "\n",
    "Output: [0,1]"
   ]
  },
  {
   "cell_type": "markdown",
   "id": "a37b8d44-122d-4f11-af22-c1e5167cce85",
   "metadata": {},
   "source": [
    "## Constraints\n"
   ]
  },
  {
   "cell_type": "markdown",
   "id": "faee2aef-dc12-4fe1-b800-1a69df4f9886",
   "metadata": {},
   "source": [
    "2 <= nums.length <= 10^4\n",
    "\n",
    "-10^9 <= nums[i] <= 10^9\n",
    "\n",
    "-10^9 <= target <= 10^9\n",
    "\n",
    "Only one valid answer exists.\n"
   ]
  },
  {
   "cell_type": "markdown",
   "id": "da231b42-0eaa-461c-bf12-10b4493645de",
   "metadata": {},
   "source": [
    "## My Code"
   ]
  },
  {
   "cell_type": "markdown",
   "id": "4e1b25be-597f-43a0-a4a3-2090d1fd7639",
   "metadata": {},
   "source": [
    "attempt #1"
   ]
  },
  {
   "cell_type": "code",
   "execution_count": 4,
   "id": "6156065d-3312-49cf-813d-c86fbac77914",
   "metadata": {},
   "outputs": [],
   "source": [
    "from typing import List"
   ]
  },
  {
   "cell_type": "code",
   "execution_count": 20,
   "id": "84c7970e-8bd7-4910-9eb0-7f1c2af1cf44",
   "metadata": {},
   "outputs": [],
   "source": [
    "class Solution:\n",
    "    def twoSum(self, nums: List[int], target: int) -> List[int]:\n",
    "        \"\"\"\n",
    "        :type nums: List[int]\n",
    "        :type target: int\n",
    "        :rtype: List[int]\n",
    "        \"\"\"\n",
    "        #create a dictionary\n",
    "        d= {}\n",
    "\n",
    "        #iterate through indices and numbers\n",
    "        for i, num1 in enumerate(nums):\n",
    "            #calculate the difference between the target and passed in number\n",
    "            num2 = target - num1\n",
    "            #if num2 NOT in d store num1 and index in dictionary \n",
    "            if num2 not in d:\n",
    "                d[num1]= i\n",
    "            #if num2 IN d return num2 index and current index\n",
    "            else:\n",
    "                return [d[num2], i]\n"
   ]
  },
  {
   "cell_type": "code",
   "execution_count": 21,
   "id": "570f166a-ba40-4a5c-9e04-f622cac95d65",
   "metadata": {},
   "outputs": [],
   "source": [
    "#create and instance of class \n",
    "Solution= Solution()"
   ]
  },
  {
   "cell_type": "markdown",
   "id": "7fdc29a5-c89c-46df-bf65-37143991301f",
   "metadata": {},
   "source": [
    "test case #1\n"
   ]
  },
  {
   "cell_type": "code",
   "execution_count": 22,
   "id": "fcc330b9-2bc5-4b42-b2e4-c763686edb82",
   "metadata": {},
   "outputs": [
    {
     "data": {
      "text/plain": [
       "[0, 1]"
      ]
     },
     "execution_count": 22,
     "metadata": {},
     "output_type": "execute_result"
    }
   ],
   "source": [
    "nums= [2,7,11,15]\n",
    "target= 9\n",
    "\n",
    "Solution.twoSum(nums, target)"
   ]
  },
  {
   "cell_type": "markdown",
   "id": "78840a91-a821-4aae-a1ce-73baa42619ab",
   "metadata": {},
   "source": [
    "test case #2"
   ]
  },
  {
   "cell_type": "code",
   "execution_count": 23,
   "id": "c16f497a-7eb8-41c4-9e62-4f6d63e8a280",
   "metadata": {},
   "outputs": [
    {
     "data": {
      "text/plain": [
       "[1, 2]"
      ]
     },
     "execution_count": 23,
     "metadata": {},
     "output_type": "execute_result"
    }
   ],
   "source": [
    "nums= [3,2,4]\n",
    "target= 6\n",
    "\n",
    "Solution.twoSum(nums, target)"
   ]
  },
  {
   "cell_type": "markdown",
   "id": "47ed7088-a3f0-42d2-a4f0-0a20e076f56e",
   "metadata": {},
   "source": [
    "test case #3"
   ]
  },
  {
   "cell_type": "code",
   "execution_count": 24,
   "id": "cdc80545-d856-4f3a-8990-e9905aeccc2c",
   "metadata": {},
   "outputs": [
    {
     "data": {
      "text/plain": [
       "[0, 1]"
      ]
     },
     "execution_count": 24,
     "metadata": {},
     "output_type": "execute_result"
    }
   ],
   "source": [
    "nums= [3,3]\n",
    "target= 6\n",
    "\n",
    "Solution.twoSum(nums, target)"
   ]
  },
  {
   "cell_type": "code",
   "execution_count": null,
   "id": "633a2bf8-e796-4e02-a6b9-01c4c095de83",
   "metadata": {},
   "outputs": [],
   "source": []
  }
 ],
 "metadata": {
  "kernelspec": {
   "display_name": "Python 3 (ipykernel)",
   "language": "python",
   "name": "python3"
  },
  "language_info": {
   "codemirror_mode": {
    "name": "ipython",
    "version": 3
   },
   "file_extension": ".py",
   "mimetype": "text/x-python",
   "name": "python",
   "nbconvert_exporter": "python",
   "pygments_lexer": "ipython3",
   "version": "3.8.19"
  }
 },
 "nbformat": 4,
 "nbformat_minor": 5
}
