{
 "cells": [
  {
   "cell_type": "markdown",
   "id": "c9d59b3b-13c4-403d-9c07-7aa357c3e079",
   "metadata": {},
   "source": [
    "# 5. Longest Palindromic Substring\n",
    "\n",
    "Given a string s, return the longest palindromic substring in s.\n",
    "\n",
    " \n",
    "\n",
    "## Example 1:\n",
    "\n",
    "    Input: s = \"babad\"\n",
    "    Output: \"bab\"\n",
    "    Explanation: \"aba\" is also a valid answer.\n",
    "\n",
    "## Example 2:\n",
    "\n",
    "    Input: s = \"cbbd\"\n",
    "    Output: \"bb\"\n",
    " \n",
    "\n",
    "## Constraints:\n",
    "\n",
    "    1 <= s.length <= 1000\n",
    "    s consist of only digits and English letters."
   ]
  },
  {
   "cell_type": "code",
   "execution_count": 7,
   "id": "9c279a2e-83b5-4e24-a163-28623122b98a",
   "metadata": {},
   "outputs": [],
   "source": [
    "# attempt #1\n",
    "class Solution:\n",
    "    def longestPalindrome(self, s: str) -> str:\n",
    "        pal= ''\n",
    "        len_pal=0\n",
    "\n",
    "        for char in range(len(s)):\n",
    "            #for pals with an odd center\n",
    "            ls, rs = char, char\n",
    "            while ls >= 0 and rs < len(s) and s[ls] == s[rs]:\n",
    "                if (rs - ls +1) > len_pal:\n",
    "                    pal= s[ls:rs +1]\n",
    "                    len_pal= rs - ls +1\n",
    "    \n",
    "                ls -= 1\n",
    "                rs += 1\n",
    "\n",
    "            #for pals with a matching center\n",
    "            ls, rs = char, char + 1\n",
    "            while ls >= 0 and rs < len(s) and s[ls] == s[rs]:\n",
    "                if (rs - ls +1) > len_pal:\n",
    "                    pal= s[ls:rs +1]\n",
    "                    len_pal= rs - ls +1\n",
    "                        \n",
    "                ls -= 1\n",
    "                rs += 1\n",
    "\n",
    "        return pal     "
   ]
  },
  {
   "cell_type": "code",
   "execution_count": null,
   "id": "a9fa764c-2208-4a10-920b-e89184f2dc4c",
   "metadata": {},
   "outputs": [],
   "source": [
    "faster than 55.22% of people and O(n**2) time complexity"
   ]
  },
  {
   "cell_type": "code",
   "execution_count": 8,
   "id": "334f0f8f-eb8b-4fd3-bd41-d8fab1a39e40",
   "metadata": {},
   "outputs": [],
   "source": [
    "# researched solution"
   ]
  },
  {
   "cell_type": "code",
   "execution_count": null,
   "id": "1f8d3237-63ed-43ca-b83e-018b9545e455",
   "metadata": {},
   "outputs": [],
   "source": [
    "class Solution:\n",
    "    def longestPalindrome(self, s: str) -> str:\n",
    "        s_prime = \"#\" + \"#\".join(s) + \"#\"\n",
    "        n = len(s_prime)\n",
    "        palindrome_radii = [0] * n\n",
    "        center = radius = 0\n",
    "\n",
    "        for i in range(n):\n",
    "            mirror = 2 * center - i\n",
    "\n",
    "            if i < radius:\n",
    "                palindrome_radii[i] = min(radius - i, palindrome_radii[mirror])\n",
    "\n",
    "            while (\n",
    "                i + 1 + palindrome_radii[i] < n\n",
    "                and i - 1 - palindrome_radii[i] >= 0\n",
    "                and s_prime[i + 1 + palindrome_radii[i]]\n",
    "                == s_prime[i - 1 - palindrome_radii[i]]\n",
    "            ):\n",
    "                palindrome_radii[i] += 1\n",
    "\n",
    "            if i + palindrome_radii[i] > radius:\n",
    "                center = i\n",
    "                radius = i + palindrome_radii[i]\n",
    "\n",
    "        max_length = max(palindrome_radii)\n",
    "        center_index = palindrome_radii.index(max_length)\n",
    "        start_index = (center_index - max_length) // 2\n",
    "        longest_palindrome = s[start_index : start_index + max_length]\n",
    "\n",
    "        return longest_palindrome"
   ]
  },
  {
   "cell_type": "markdown",
   "id": "44e9d133-a2ef-4086-adf5-c7578ee0be90",
   "metadata": {},
   "source": [
    "this uses manacher's algorith with O(n) time complexity"
   ]
  },
  {
   "cell_type": "code",
   "execution_count": null,
   "id": "182afe20-2063-4c96-aa5b-29dc3e42d700",
   "metadata": {},
   "outputs": [],
   "source": []
  }
 ],
 "metadata": {
  "kernelspec": {
   "display_name": "torch",
   "language": "python",
   "name": "torch"
  },
  "language_info": {
   "codemirror_mode": {
    "name": "ipython",
    "version": 3
   },
   "file_extension": ".py",
   "mimetype": "text/x-python",
   "name": "python",
   "nbconvert_exporter": "python",
   "pygments_lexer": "ipython3",
   "version": "3.12.11"
  }
 },
 "nbformat": 4,
 "nbformat_minor": 5
}
