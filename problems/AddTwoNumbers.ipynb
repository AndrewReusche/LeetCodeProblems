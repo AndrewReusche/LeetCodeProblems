{
 "cells": [
  {
   "cell_type": "markdown",
   "id": "5c5278bb-eb94-4d75-8b6c-4b31fe13c3c6",
   "metadata": {},
   "source": [
    "# Question\n",
    "\n",
    "You are given two non-empty linked lists representing two non-negative integers. The digits are stored in reverse order, and each of their nodes contains a single digit. Add the two numbers and return the sum as a linked list.\n",
    "\n",
    "You may assume the two numbers do not contain any leading zero, except the number 0 itself."
   ]
  },
  {
   "cell_type": "markdown",
   "id": "8b6a072c-fb0a-40a4-a7be-dec89c1ebbf8",
   "metadata": {},
   "source": [
    "## Contstaints\n",
    "\n",
    "The number of nodes in each linked list is in the range [1, 100].\n",
    "\n",
    "0 <= Node.val <= 9\n",
    "\n",
    "It is guaranteed that the list represents a number that does not have leading zeros."
   ]
  },
  {
   "cell_type": "markdown",
   "id": "722a2d3b-6056-45d1-8721-ba777f1abc63",
   "metadata": {},
   "source": [
    "## Examples\n",
    "\n",
    "Example 1:\n",
    "\n",
    "Input: l1 = [2,4,3], l2 = [5,6,4]\n",
    "\n",
    "Output: [7,0,8]\n",
    "\n",
    "Explanation: 342 + 465 = 807.\n",
    "\n",
    "\n",
    "Example 2:\n",
    "\n",
    "Input: l1 = [0], l2 = [0]\n",
    "\n",
    "Output: [0]\n",
    "\n",
    "\n",
    "Example 3:\n",
    "\n",
    "Input: l1 = [9,9,9,9,9,9,9], l2 = [9,9,9,9]\n",
    "\n",
    "Output: [8,9,9,9,0,0,0,1]"
   ]
  },
  {
   "cell_type": "markdown",
   "id": "fed574be-e58a-4b97-9c43-e5aced872990",
   "metadata": {},
   "source": [
    "## My Code"
   ]
  },
  {
   "cell_type": "code",
   "execution_count": 4,
   "id": "12b8c037-bcc2-46f5-8eaf-c23a7fea1710",
   "metadata": {},
   "outputs": [],
   "source": [
    "# Definition for singly-linked list.\n",
    "#class ListNode:\n",
    "#     def __init__(self, val=0, next=None):\n",
    "#         self.val = val\n",
    "#         self.next = next\n",
    "class Solution:\n",
    "    def addTwoNumbers(self, l1: Optional[ListNode], l2: Optional[ListNode]) -> Optional[ListNode]:\n",
    "        for x in \n",
    "        "
   ]
  },
  {
   "cell_type": "code",
   "execution_count": 1,
   "id": "62ea61eb-ceb8-47e1-88d0-f8e8a7973840",
   "metadata": {},
   "outputs": [],
   "source": [
    "l1= [2,4,3]\n",
    "l2= [5,6,4]"
   ]
  },
  {
   "cell_type": "code",
   "execution_count": 6,
   "id": "72d3722f-f7e0-4064-b868-d17f1b10808e",
   "metadata": {},
   "outputs": [
    {
     "data": {
      "text/plain": [
       "[3, 4, 2]"
      ]
     },
     "execution_count": 6,
     "metadata": {},
     "output_type": "execute_result"
    }
   ],
   "source": [
    "l1[::-1]"
   ]
  },
  {
   "cell_type": "code",
   "execution_count": 8,
   "id": "20c969cd-ffaa-4bf2-87f9-e93c5bdd5ec5",
   "metadata": {},
   "outputs": [
    {
     "data": {
      "text/plain": [
       "<map at 0x1073e6d30>"
      ]
     },
     "execution_count": 8,
     "metadata": {},
     "output_type": "execute_result"
    }
   ],
   "source": [
    "map(str,l1[::-1])"
   ]
  },
  {
   "cell_type": "code",
   "execution_count": 10,
   "id": "5b5d04f2-8d95-4e70-b433-0e0958cbc83e",
   "metadata": {},
   "outputs": [
    {
     "data": {
      "text/plain": [
       "'342'"
      ]
     },
     "execution_count": 10,
     "metadata": {},
     "output_type": "execute_result"
    }
   ],
   "source": [
    "\"\".join(map(str,l1[::-1]))"
   ]
  },
  {
   "cell_type": "code",
   "execution_count": 11,
   "id": "efa44dde-f68b-4d0c-87d3-e0dae960962c",
   "metadata": {},
   "outputs": [
    {
     "data": {
      "text/plain": [
       "342"
      ]
     },
     "execution_count": 11,
     "metadata": {},
     "output_type": "execute_result"
    }
   ],
   "source": [
    "int(\"\".join(map(str,l1[::-1])))"
   ]
  },
  {
   "cell_type": "code",
   "execution_count": 12,
   "id": "630c1943-1fc0-4d96-a1b0-3bbc71de89a9",
   "metadata": {},
   "outputs": [],
   "source": [
    "num1= int(\"\".join(map(str,l1[::-1])))"
   ]
  },
  {
   "cell_type": "code",
   "execution_count": 13,
   "id": "8577a0b2-6fdd-45c4-af35-6e1b332dd8bf",
   "metadata": {},
   "outputs": [],
   "source": [
    "num2= int(\"\".join(map(str,l2[::-1])))"
   ]
  },
  {
   "cell_type": "code",
   "execution_count": 23,
   "id": "a04115aa-458b-4442-8375-27198227ef74",
   "metadata": {},
   "outputs": [],
   "source": [
    "total= num1 + num2"
   ]
  },
  {
   "cell_type": "code",
   "execution_count": 15,
   "id": "ca896348-17f2-4434-b07d-746e9f2072b7",
   "metadata": {},
   "outputs": [
    {
     "data": {
      "text/plain": [
       "807"
      ]
     },
     "execution_count": 15,
     "metadata": {},
     "output_type": "execute_result"
    }
   ],
   "source": [
    "total"
   ]
  },
  {
   "cell_type": "code",
   "execution_count": 16,
   "id": "071f987b-c0c8-44c8-aaca-e99a7b14e074",
   "metadata": {},
   "outputs": [
    {
     "data": {
      "text/plain": [
       "'807'"
      ]
     },
     "execution_count": 16,
     "metadata": {},
     "output_type": "execute_result"
    }
   ],
   "source": [
    "str(total)"
   ]
  },
  {
   "cell_type": "code",
   "execution_count": 25,
   "id": "7b513b99-90cf-45db-a24d-36b37b1852c6",
   "metadata": {},
   "outputs": [
    {
     "data": {
      "text/plain": [
       "[8, 0, 7]"
      ]
     },
     "execution_count": 25,
     "metadata": {},
     "output_type": "execute_result"
    }
   ],
   "source": [
    "list(map(int, str(total)))"
   ]
  },
  {
   "cell_type": "code",
   "execution_count": 26,
   "id": "a469211d-1e57-4291-83ae-a3cdc2ade524",
   "metadata": {},
   "outputs": [
    {
     "data": {
      "text/plain": [
       "[7, 0, 8]"
      ]
     },
     "execution_count": 26,
     "metadata": {},
     "output_type": "execute_result"
    }
   ],
   "source": [
    "list(map(int, str(total)))[::-1]"
   ]
  },
  {
   "cell_type": "code",
   "execution_count": 27,
   "id": "088dde34-f9d9-430e-87ac-85ec827600a4",
   "metadata": {},
   "outputs": [],
   "source": [
    "flipped_total_lst= list(map(int, str(total)))[::-1]"
   ]
  },
  {
   "cell_type": "code",
   "execution_count": 30,
   "id": "370f8317-dec4-41ba-acc3-06af717c505c",
   "metadata": {},
   "outputs": [],
   "source": [
    "## put it all together\n",
    "\n",
    "# Definition for singly-linked list.\n",
    "class Solution:\n",
    "    def addTwoNumbers(self, l1, l2):\n",
    "        num1= int(\"\".join(map(str,l1[::-1])))\n",
    "        num2= int(\"\".join(map(str,l2[::-1])))\n",
    "\n",
    "        total= num1 + num2\n",
    "\n",
    "        flipped_total_lst= list(map(int, str(total)))[::-1]\n",
    "\n",
    "        return flipped_total_lst"
   ]
  },
  {
   "cell_type": "markdown",
   "id": "1deb572e-2f2a-43d7-bdd9-de3bcbc0f2b1",
   "metadata": {},
   "source": [
    "problem is dealing with ListNodes not lists. create a conversion workaround. not the best solution but will work for now while I am watching the eagles home opener."
   ]
  },
  {
   "cell_type": "code",
   "execution_count": 31,
   "id": "d0f86111-dc2d-4d82-9c0e-df0749526072",
   "metadata": {},
   "outputs": [
    {
     "ename": "NameError",
     "evalue": "name 'Optional' is not defined",
     "output_type": "error",
     "traceback": [
      "\u001b[0;31m---------------------------------------------------------------------------\u001b[0m",
      "\u001b[0;31mNameError\u001b[0m                                 Traceback (most recent call last)",
      "Cell \u001b[0;32mIn[31], line 6\u001b[0m\n\u001b[1;32m      1\u001b[0m \u001b[38;5;66;03m# Definition for singly-linked list.\u001b[39;00m\n\u001b[1;32m      2\u001b[0m \u001b[38;5;66;03m#class ListNode:\u001b[39;00m\n\u001b[1;32m      3\u001b[0m \u001b[38;5;66;03m#     def __init__(self, val=0, next=None):\u001b[39;00m\n\u001b[1;32m      4\u001b[0m \u001b[38;5;66;03m#         self.val = val\u001b[39;00m\n\u001b[1;32m      5\u001b[0m \u001b[38;5;66;03m#         self.next = next\u001b[39;00m\n\u001b[0;32m----> 6\u001b[0m \u001b[38;5;28;01mclass\u001b[39;00m \u001b[38;5;21;01mSolution\u001b[39;00m:\n\u001b[1;32m      7\u001b[0m     \u001b[38;5;28;01mdef\u001b[39;00m \u001b[38;5;21maddTwoNumbers\u001b[39m(\u001b[38;5;28mself\u001b[39m, l1: Optional[ListNode], l2: Optional[ListNode]) \u001b[38;5;241m-\u001b[39m\u001b[38;5;241m>\u001b[39m Optional[ListNode]:\n\u001b[1;32m      8\u001b[0m         \u001b[38;5;66;03m#convert listnode to list function\u001b[39;00m\n\u001b[1;32m      9\u001b[0m         \u001b[38;5;28;01mdef\u001b[39;00m \u001b[38;5;21mlistnode_to_list\u001b[39m(node: ListNode) \u001b[38;5;241m-\u001b[39m\u001b[38;5;241m>\u001b[39m \u001b[38;5;28mlist\u001b[39m:\n",
      "Cell \u001b[0;32mIn[31], line 7\u001b[0m, in \u001b[0;36mSolution\u001b[0;34m()\u001b[0m\n\u001b[1;32m      6\u001b[0m \u001b[38;5;28;01mclass\u001b[39;00m \u001b[38;5;21;01mSolution\u001b[39;00m:\n\u001b[0;32m----> 7\u001b[0m     \u001b[38;5;28;01mdef\u001b[39;00m \u001b[38;5;21maddTwoNumbers\u001b[39m(\u001b[38;5;28mself\u001b[39m, l1: \u001b[43mOptional\u001b[49m[ListNode], l2: Optional[ListNode]) \u001b[38;5;241m-\u001b[39m\u001b[38;5;241m>\u001b[39m Optional[ListNode]:\n\u001b[1;32m      8\u001b[0m         \u001b[38;5;66;03m#convert listnode to list function\u001b[39;00m\n\u001b[1;32m      9\u001b[0m         \u001b[38;5;28;01mdef\u001b[39;00m \u001b[38;5;21mlistnode_to_list\u001b[39m(node: ListNode) \u001b[38;5;241m-\u001b[39m\u001b[38;5;241m>\u001b[39m \u001b[38;5;28mlist\u001b[39m:\n\u001b[1;32m     10\u001b[0m             a_list\u001b[38;5;241m=\u001b[39m []\n",
      "\u001b[0;31mNameError\u001b[0m: name 'Optional' is not defined"
     ]
    }
   ],
   "source": [
    "# Definition for singly-linked list.\n",
    "#class ListNode:\n",
    "#     def __init__(self, val=0, next=None):\n",
    "#         self.val = val\n",
    "#         self.next = next\n",
    "class Solution:\n",
    "    def addTwoNumbers(self, l1: Optional[ListNode], l2: Optional[ListNode]) -> Optional[ListNode]:\n",
    "        #convert listnode to list function\n",
    "        def listnode_to_list(node: ListNode) -> list:\n",
    "            a_list= []\n",
    "            while node:\n",
    "                a_list.append(node.val)\n",
    "                node= node.next\n",
    "            return a_list\n",
    "\n",
    "        #convert list to listnode\n",
    "        def list_to_listnode(nums: list) -> ListNode:\n",
    "            dummy= ListNode()\n",
    "            current= dummy\n",
    "            for num in nums:\n",
    "                current.next = ListNode(num)\n",
    "                current= current.next\n",
    "            return dummy.next\n",
    "\n",
    "        list1= listnode_to_list(l1)\n",
    "        list2= listnode_to_list(l2)\n",
    "\n",
    "        num1= int(\"\".join(map(str,list1[::-1])))\n",
    "        num2= int(\"\".join(map(str,list2[::-1])))\n",
    "\n",
    "        total= num1 + num2\n",
    "\n",
    "        flipped_total_lst= list(map(int, str(total)))[::-1]\n",
    "\n",
    "        the_ListNode= list_to_listnode(flipped_total_lst)\n",
    "\n",
    "        return the_ListNode"
   ]
  },
  {
   "cell_type": "code",
   "execution_count": 32,
   "id": "989a94fb-2e7f-4912-a12f-d05fc73529a8",
   "metadata": {},
   "outputs": [],
   "source": [
    "# Definition for singly-linked list.\n",
    "#class ListNode:\n",
    "#     def __init__(self, val=0, next=None):\n",
    "#         self.val = val\n",
    "#         self.next = next\n",
    "class Solution:\n",
    "    def addTwoNumbers(self, l1: [ListNode], l2: [ListNode]) -> [ListNode]:\n",
    "        #convert listnode to list function\n",
    "        def listnode_to_list(node: ListNode) -> list:\n",
    "            a_list= []\n",
    "            while node:\n",
    "                a_list.append(node.val)\n",
    "                node= node.next\n",
    "            return a_list\n",
    "\n",
    "        #convert list to listnode\n",
    "        def list_to_listnode(nums: list) -> ListNode:\n",
    "            dummy= ListNode()\n",
    "            current= dummy\n",
    "            for num in nums:\n",
    "                current.next = ListNode(num)\n",
    "                current= current.next\n",
    "            return dummy.next\n",
    "\n",
    "        list1= listnode_to_list(l1)\n",
    "        list2= listnode_to_list(l2)\n",
    "\n",
    "        num1= int(\"\".join(map(str,list1[::-1])))\n",
    "        num2= int(\"\".join(map(str,list2[::-1])))\n",
    "\n",
    "        total= num1 + num2\n",
    "\n",
    "        flipped_total_lst= list(map(int, str(total)))[::-1]\n",
    "\n",
    "        the_ListNode= list_to_listnode(flipped_total_lst)\n",
    "\n",
    "        return the_ListNode"
   ]
  },
  {
   "cell_type": "markdown",
   "id": "fe55416e-074b-46d3-82ea-c7c816e4ba89",
   "metadata": {},
   "source": [
    "solution works"
   ]
  },
  {
   "cell_type": "code",
   "execution_count": null,
   "id": "586ee091-3809-4676-8623-7b9c3441dacc",
   "metadata": {},
   "outputs": [],
   "source": []
  }
 ],
 "metadata": {
  "kernelspec": {
   "display_name": "Python 3 (ipykernel)",
   "language": "python",
   "name": "python3"
  },
  "language_info": {
   "codemirror_mode": {
    "name": "ipython",
    "version": 3
   },
   "file_extension": ".py",
   "mimetype": "text/x-python",
   "name": "python",
   "nbconvert_exporter": "python",
   "pygments_lexer": "ipython3",
   "version": "3.8.19"
  }
 },
 "nbformat": 4,
 "nbformat_minor": 5
}
