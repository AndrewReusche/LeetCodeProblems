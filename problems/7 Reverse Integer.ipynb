{
 "cells": [
  {
   "cell_type": "markdown",
   "id": "98ba9e76-eeef-4b19-8df1-cdcef00a5aa9",
   "metadata": {},
   "source": [
    "# 7. Reverse Integer\n",
    "\n",
    "Given a signed 32-bit integer x, return x with its digits reversed. If reversing x causes the value to go outside the signed 32-bit integer range [-231, 231 - 1], then return 0.\n",
    "\n",
    "Assume the environment does not allow you to store 64-bit integers (signed or unsigned).\n",
    "\n",
    " \n",
    "\n",
    "Example 1:\n",
    "\n",
    "    Input: x = 123\n",
    "    Output: 321\n",
    "\n",
    "Example 2:\n",
    "\n",
    "    Input: x = -123\n",
    "    Output: -321\n",
    "\n",
    "Example 3:\n",
    "\n",
    "    Input: x = 120\n",
    "    Output: 21\n",
    " \n",
    "\n",
    "Constraints:\n",
    "\n",
    "    -231 <= x <= 231 - 1"
   ]
  },
  {
   "cell_type": "code",
   "execution_count": 2,
   "id": "64bb1b6b-17d0-44de-96f6-9fae921bf621",
   "metadata": {},
   "outputs": [],
   "source": [
    "#attempt 1\n",
    "class Solution:\n",
    "    def reverse(self, x: int) -> int:\n",
    "\n",
    "        if x == 0:\n",
    "            return 0\n",
    "        \n",
    "        flipped= []\n",
    "        list_X= list(str(x))\n",
    "\n",
    "        if x < 0:\n",
    "            list_X.pop(0)\n",
    "        \n",
    "        flipped_list = list_X[::-1]\n",
    "\n",
    "        while len(flipped_list) > 0 and flipped_list[0] == '0':\n",
    "            flipped_list.pop(0)\n",
    "\n",
    "        flipped.extend(flipped_list)\n",
    "\n",
    "        if len(flipped) == 0:\n",
    "            flipped= ['0']\n",
    "        \n",
    "        flipped = int(''.join(map(str, flipped)))\n",
    "               \n",
    "        if -2**31 > flipped or flipped > 2**31 - 1:\n",
    "            return 0\n",
    "        elif x < 0:\n",
    "            return -flipped\n",
    "        else:\n",
    "            return flipped\n",
    "            "
   ]
  },
  {
   "cell_type": "code",
   "execution_count": 3,
   "id": "63f86fdb-b6a2-4753-b1f7-d0e5b5a77a76",
   "metadata": {},
   "outputs": [
    {
     "data": {
      "text/plain": [
       "-321"
      ]
     },
     "execution_count": 3,
     "metadata": {},
     "output_type": "execute_result"
    }
   ],
   "source": [
    "#test run\n",
    "Sol= Solution()\n",
    "Sol.reverse(-123)"
   ]
  },
  {
   "cell_type": "markdown",
   "id": "228358a7-4ba7-4253-85b7-606c14574bdd",
   "metadata": {},
   "source": [
    "This technically works but can have O(n**2) time complexity. let's see if I can improve that"
   ]
  },
  {
   "cell_type": "code",
   "execution_count": 5,
   "id": "423f7af3-6b21-4038-85f8-f3b4a5214873",
   "metadata": {},
   "outputs": [],
   "source": [
    "#attempt 2\n",
    "class Solution:\n",
    "    def reverse(self, x: int) -> int:\n",
    "\n",
    "        if x == 0:\n",
    "            return 0\n",
    "\n",
    "        X_string= str(x)\n",
    "        \n",
    "        neg_status= False\n",
    "        if x<0:\n",
    "            neg_status= True\n",
    "            X_string= X_string[1:]\n",
    "\n",
    "        flipped_string= X_string[::-1]\n",
    "        flipped_string= flipped_string.lstrip('0')\n",
    "\n",
    "        if len(flipped_string) == 0:\n",
    "            flipped_string= ['0']\n",
    "\n",
    "        flipped= int(flipped_string)\n",
    "\n",
    "        if -2**31 > flipped or flipped > 2**31 - 1:\n",
    "            return 0\n",
    "        elif neg_status:\n",
    "            return -flipped\n",
    "        else:\n",
    "            return flipped\n",
    "        "
   ]
  },
  {
   "cell_type": "code",
   "execution_count": 6,
   "id": "2c8a20d7-eca7-4c03-8156-0142c6f26343",
   "metadata": {},
   "outputs": [
    {
     "data": {
      "text/plain": [
       "-321"
      ]
     },
     "execution_count": 6,
     "metadata": {},
     "output_type": "execute_result"
    }
   ],
   "source": [
    "#test run\n",
    "Sol= Solution()\n",
    "Sol.reverse(-123)"
   ]
  },
  {
   "cell_type": "markdown",
   "id": "7a099342-0746-46f1-a791-996b6be1e1b8",
   "metadata": {},
   "source": [
    "This improvement beats 59.27% of people with O(n) time complexity. "
   ]
  },
  {
   "cell_type": "code",
   "execution_count": null,
   "id": "c204c892-5802-45f3-aea0-a7dcfc0277f0",
   "metadata": {},
   "outputs": [],
   "source": []
  }
 ],
 "metadata": {
  "kernelspec": {
   "display_name": "torch",
   "language": "python",
   "name": "torch"
  },
  "language_info": {
   "codemirror_mode": {
    "name": "ipython",
    "version": 3
   },
   "file_extension": ".py",
   "mimetype": "text/x-python",
   "name": "python",
   "nbconvert_exporter": "python",
   "pygments_lexer": "ipython3",
   "version": "3.12.11"
  }
 },
 "nbformat": 4,
 "nbformat_minor": 5
}
