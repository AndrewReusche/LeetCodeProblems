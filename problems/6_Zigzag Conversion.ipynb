{
 "cells": [
  {
   "cell_type": "markdown",
   "id": "9083a5a0-319f-44d7-bd20-ebc27a8c893f",
   "metadata": {},
   "source": [
    "# 6. Zigzag Conversion\n",
    "\n",
    "The string \"PAYPALISHIRING\" is written in a zigzag pattern on a given number of rows like this: (you may want to display this pattern in a fixed font for better legibility)\n",
    "\n",
    "    P   A   H   N\n",
    "    A P L S I I G\n",
    "    Y   I   R\n",
    "And then read line by line: \"PAHNAPLSIIGYIR\"\n",
    "\n",
    "Write the code that will take a string and make this conversion given a number of rows:\n",
    "\n",
    "    string convert(string s, int numRows);\n",
    " \n",
    "\n",
    "Example 1:\n",
    "\n",
    "    Input: s = \"PAYPALISHIRING\", numRows = 3\n",
    "    Output: \"PAHNAPLSIIGYIR\"\n",
    "\n",
    "Example 2:\n",
    "\n",
    "    Input: s = \"PAYPALISHIRING\", numRows = 4\n",
    "    Output: \"PINALSIGYAHRPI\"\n",
    "    Explanation:\n",
    "    P     I    N\n",
    "    A   L S  I G\n",
    "    Y A   H R\n",
    "    P     I\n",
    "\n",
    "Example 3:\n",
    "\n",
    "    Input: s = \"A\", numRows = 1\n",
    "    Output: \"A\"\n",
    " \n",
    "\n",
    "Constraints:\n",
    "\n",
    "    1 <= s.length <= 1000\n",
    "    s consists of English letters (lower-case and upper-case), ',' and '.'.\n",
    "    1 <= numRows <= 1000"
   ]
  },
  {
   "cell_type": "code",
   "execution_count": 1,
   "id": "f75567ae-4b04-4393-bd9f-a2e9526cfcce",
   "metadata": {},
   "outputs": [],
   "source": [
    "# attempt  1\n",
    "class Solution:\n",
    "    def convert(self, s: str, numRows: int) -> str:\n",
    "        if numRows ==1:\n",
    "            return s\n",
    "        else:\n",
    "            special_string=''\n",
    "\n",
    "            for row in range(numRows):\n",
    "                jump_rate= 2 * (numRows - 1)\n",
    "                for i in range(row, len(s), jump_rate):\n",
    "                    special_string += s[i]\n",
    "                    if (row > 0 and row < numRows - 1 and\n",
    "                        i + jump_rate - 2 * row < len(s)):\n",
    "                            special_string += s[ i + jump_rate - 2 * row]\n",
    "            return special_string"
   ]
  },
  {
   "cell_type": "code",
   "execution_count": 2,
   "id": "faa2bc45-829b-478b-b8f3-75351cbae10b",
   "metadata": {},
   "outputs": [
    {
     "data": {
      "text/plain": [
       "'PINALSIGYAHRPI'"
      ]
     },
     "execution_count": 2,
     "metadata": {},
     "output_type": "execute_result"
    }
   ],
   "source": [
    "test= Solution()\n",
    "test.convert(s = \"PAYPALISHIRING\", numRows = 4)"
   ]
  },
  {
   "cell_type": "markdown",
   "id": "9a4ae754-6a71-4462-82f8-75a9d8ef13e6",
   "metadata": {},
   "source": [
    "This solution only beats 15.5% of answers. Try a better one"
   ]
  },
  {
   "cell_type": "code",
   "execution_count": null,
   "id": "16e12353-3638-49ab-9664-57e453cba47d",
   "metadata": {},
   "outputs": [],
   "source": []
  }
 ],
 "metadata": {
  "kernelspec": {
   "display_name": "torch",
   "language": "python",
   "name": "torch"
  },
  "language_info": {
   "codemirror_mode": {
    "name": "ipython",
    "version": 3
   },
   "file_extension": ".py",
   "mimetype": "text/x-python",
   "name": "python",
   "nbconvert_exporter": "python",
   "pygments_lexer": "ipython3",
   "version": "3.12.11"
  }
 },
 "nbformat": 4,
 "nbformat_minor": 5
}
