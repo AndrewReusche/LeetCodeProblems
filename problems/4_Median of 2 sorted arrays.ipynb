{
 "cells": [
  {
   "cell_type": "markdown",
   "id": "3de74977-16fa-41f7-8aab-84304a10582b",
   "metadata": {},
   "source": [
    "# 4. Median of Two Sorted Arrays\n",
    "\n",
    "Given two sorted arrays nums1 and nums2 of size m and n respectively, return the median of the two sorted arrays.\n",
    "\n",
    "The overall run time complexity should be O(log (m+n)).\n",
    "\n",
    " \n",
    "\n",
    "Example 1:\n",
    "\n",
    "    Input: nums1 = [1,3], nums2 = [2]\n",
    "    Output: 2.00000\n",
    "    Explanation: merged array = [1,2,3] and median is 2.\n",
    "\n",
    "Example 2:\n",
    "\n",
    "    Input: nums1 = [1,2], nums2 = [3,4]\n",
    "    Output: 2.50000\n",
    "    Explanation: merged array = [1,2,3,4] and median is (2 + 3) / 2 = 2.5.\n",
    " \n",
    "\n",
    "Constraints:\n",
    "\n",
    "    nums1.length == m\n",
    "    nums2.length == n\n",
    "    0 <= m <= 1000\n",
    "    0 <= n <= 1000\n",
    "    1 <= m + n <= 2000\n",
    "    -106 <= nums1[i], nums2[i] <= 106"
   ]
  },
  {
   "cell_type": "code",
   "execution_count": null,
   "id": "70c7722d-d31a-4592-b0d0-be2eea45a38c",
   "metadata": {},
   "outputs": [],
   "source": [
    "# first try\n",
    "class Solution:\n",
    "    def findMedianSortedArrays(self, nums1: List[int], nums2: List[int]) -> float:nt_array= nums1 + nums2 \n",
    "        \n",
    "    sorted_joint= sorted(joint_array)\n",
    "\n",
    "        L= len(sorted_joint)\n",
    "\n",
    "        if L %2 != 0:\n",
    "            median = sorted_joint[(L // 2)]\n",
    "        else:\n",
    "            median = (sorted_joint[(L // 2) -1] + sorted_joint[(L // 2)])/2\n",
    "\n",
    "        return median\n"
   ]
  },
  {
   "cell_type": "markdown",
   "id": "9f3b21e3-9841-4ad6-9aeb-b4b92d862b0c",
   "metadata": {},
   "source": [
    "Even though this solution was accepted it does not technically meet the  O(log (m+n)) request. My soluition has a time complexity of O((m + n) log(m + n)) because of sorting"
   ]
  },
  {
   "cell_type": "code",
   "execution_count": null,
   "id": "70e9da4e-1d93-444d-867e-3bc82e019153",
   "metadata": {},
   "outputs": [],
   "source": [
    "# second try, with research\n",
    "\n"
   ]
  }
 ],
 "metadata": {
  "kernelspec": {
   "display_name": "torch",
   "language": "python",
   "name": "torch"
  },
  "language_info": {
   "codemirror_mode": {
    "name": "ipython",
    "version": 3
   },
   "file_extension": ".py",
   "mimetype": "text/x-python",
   "name": "python",
   "nbconvert_exporter": "python",
   "pygments_lexer": "ipython3",
   "version": "3.12.11"
  }
 },
 "nbformat": 4,
 "nbformat_minor": 5
}
